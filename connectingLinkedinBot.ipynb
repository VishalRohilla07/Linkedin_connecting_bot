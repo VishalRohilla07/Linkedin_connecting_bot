{
 "cells": [
  {
   "cell_type": "code",
   "execution_count": 15,
   "id": "0a5f9ebb",
   "metadata": {},
   "outputs": [],
   "source": [
    "from selenium import webdriver\n",
    "from selenium.webdriver.common.keys import Keys\n",
    "from selenium.webdriver.support import expected_conditions as EC\n",
    "from selenium.webdriver.common.by import By\n",
    "from selenium.webdriver.support.wait import WebDriverWait\n",
    "import time"
   ]
  },
  {
   "cell_type": "code",
   "execution_count": 16,
   "id": "c3b7c853",
   "metadata": {},
   "outputs": [],
   "source": [
    "driver = webdriver.Chrome()\n",
    "driver.get(\"https://linkedin.com\")"
   ]
  },
  {
   "cell_type": "code",
   "execution_count": 17,
   "id": "31d81202",
   "metadata": {},
   "outputs": [],
   "source": [
    "time.sleep(2)\n",
    "\n",
    "username = driver.find_element_by_xpath(\"//input[@name='session_key']\")\n",
    "password = driver.find_element_by_xpath(\"//input[@name='session_password']\")\n",
    "\n",
    "username.send_keys(\"rohillavishal199@gmail.com\") # here you need to provide your username/id/gmail\n",
    "password.send_keys(\"7206609340a\") # here you need to provide your password\n",
    "\n",
    "submit = driver.find_element_by_xpath(\"//button[@type='submit']\").click()\n",
    "time.sleep(2)\n"
   ]
  },
  {
   "cell_type": "code",
   "execution_count": 18,
   "id": "b9c2abc3",
   "metadata": {},
   "outputs": [],
   "source": [
    "driver.get(\"https://www.linkedin.com/search/results/people/?network=%5B%22S%22%5D&origin=FACETED_SEARCH\")\n",
    "time.sleep(2)\n",
    "\n",
    "all_buttons = driver.find_elements_by_tag_name(\"button\")\n",
    "connect_buttons = [btn for btn in all_buttons if btn.text == \"Connect\"]\n",
    "\n",
    "for btn in connect_buttons:\n",
    "    driver.execute_script(\"arguments[0].click();\", btn)\n",
    "    time.sleep(2)\n",
    "    send = driver.find_element_by_xpath(\"//button[@aria-label='Send now']\")\n",
    "    driver.execute_script(\"arguments[0].click();\", send)\n",
    "    close = driver.find_element_by_xpath(\"//button[@aria-label='Dismiss']\")\n",
    "    driver.execute_script(\"arguments[0].click();\", close)\n",
    "    time.sleep(2)"
   ]
  },
  {
   "cell_type": "code",
   "execution_count": null,
   "id": "00aca313",
   "metadata": {},
   "outputs": [],
   "source": []
  }
 ],
 "metadata": {
  "kernelspec": {
   "display_name": "Python 3 (ipykernel)",
   "language": "python",
   "name": "python3"
  },
  "language_info": {
   "codemirror_mode": {
    "name": "ipython",
    "version": 3
   },
   "file_extension": ".py",
   "mimetype": "text/x-python",
   "name": "python",
   "nbconvert_exporter": "python",
   "pygments_lexer": "ipython3",
   "version": "3.9.7"
  }
 },
 "nbformat": 4,
 "nbformat_minor": 5
}
